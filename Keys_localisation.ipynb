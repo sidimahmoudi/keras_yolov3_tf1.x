{
  "nbformat": 4,
  "nbformat_minor": 0,
  "metadata": {
    "colab": {
      "name": "Keys_localisation.ipynb",
      "provenance": [],
      "collapsed_sections": []
    },
    "kernelspec": {
      "name": "python3",
      "display_name": "Python 3"
    },
    "accelerator": "GPU"
  },
  "cells": [
    {
      "cell_type": "markdown",
      "metadata": {
        "id": "adPUemMsX9wo",
        "colab_type": "text"
      },
      "source": [
        "**1.   Tester le GPU**\n",
        "\n"
      ]
    },
    {
      "cell_type": "code",
      "metadata": {
        "id": "V4znZoAYXwif",
        "colab_type": "code",
        "colab": {}
      },
      "source": [
        "!nvidia-smi"
      ],
      "execution_count": 0,
      "outputs": []
    },
    {
      "cell_type": "markdown",
      "metadata": {
        "id": "4wSWIisX3Nkk",
        "colab_type": "text"
      },
      "source": [
        "**Installation keras version 2.2.0**"
      ]
    },
    {
      "cell_type": "code",
      "metadata": {
        "id": "HhGTkYqYw4Zd",
        "colab_type": "code",
        "colab": {}
      },
      "source": [
        "!pip install keras==2.2.0"
      ],
      "execution_count": 0,
      "outputs": []
    },
    {
      "cell_type": "markdown",
      "metadata": {
        "id": "sDVuzp6XYRlR",
        "colab_type": "text"
      },
      "source": [
        "**4.   Téléchargement du dossier des images de clé et le background**\n",
        "\n",
        "\n"
      ]
    },
    {
      "cell_type": "code",
      "metadata": {
        "id": "F_7eq83hdgJz",
        "colab_type": "code",
        "colab": {}
      },
      "source": [
        "!wget https://github.com/belarbi2733/keras_yolov3/releases/download/1/key_wb.zip"
      ],
      "execution_count": 0,
      "outputs": []
    },
    {
      "cell_type": "code",
      "metadata": {
        "id": "S2lgIsBXe76N",
        "colab_type": "code",
        "colab": {}
      },
      "source": [
        "!wget https://github.com/belarbi2733/keras_yolov3/releases/download/1/bckgrnd.zip"
      ],
      "execution_count": 0,
      "outputs": []
    },
    {
      "cell_type": "markdown",
      "metadata": {
        "id": "Ra_t4HPnZFWK",
        "colab_type": "text"
      },
      "source": [
        " **5.   Décompresser les deux fichiers .zip**\n",
        "\n",
        "\n"
      ]
    },
    {
      "cell_type": "code",
      "metadata": {
        "id": "q_B-pfloZSvB",
        "colab_type": "code",
        "colab": {}
      },
      "source": [
        "!unzip bckgrnd.zip "
      ],
      "execution_count": 0,
      "outputs": []
    },
    {
      "cell_type": "code",
      "metadata": {
        "id": "P5Hyyfb7ZWmH",
        "colab_type": "code",
        "colab": {}
      },
      "source": [
        "!unzip key_wb.zip"
      ],
      "execution_count": 0,
      "outputs": []
    },
    {
      "cell_type": "markdown",
      "metadata": {
        "id": "kkXEoEhiZotH",
        "colab_type": "text"
      },
      "source": [
        "\n",
        "\n",
        "**6.   Mixer le backgound avec les clés**\n",
        "\n",
        "\n"
      ]
    },
    {
      "cell_type": "code",
      "metadata": {
        "id": "-wSV4g_ZZl0z",
        "colab_type": "code",
        "colab": {}
      },
      "source": [
        "!python keys_with_background.py --keys \"key_wb\" --background \"bckgrnd\" --output \"keys_and_background\""
      ],
      "execution_count": 0,
      "outputs": []
    },
    {
      "cell_type": "markdown",
      "metadata": {
        "id": "K2kNcHIMg6bW",
        "colab_type": "text"
      },
      "source": [
        "\n",
        "\n",
        "**7.   Récupurer le fichier annotation et adapter le format du fichier**\n",
        "\n"
      ]
    },
    {
      "cell_type": "code",
      "metadata": {
        "id": "3O0fPqFCc5MI",
        "colab_type": "code",
        "colab": {}
      },
      "source": [
        "!mv keys_and_background/annotations.csv ."
      ],
      "execution_count": 0,
      "outputs": []
    },
    {
      "cell_type": "markdown",
      "metadata": {
        "id": "Wx7FcVker6Dg",
        "colab_type": "text"
      },
      "source": [
        "**8.   Télécharger le fichier yolov3.weights**"
      ]
    },
    {
      "cell_type": "code",
      "metadata": {
        "id": "VBBYjZK_hpKd",
        "colab_type": "code",
        "colab": {}
      },
      "source": [
        "!wget https://pjreddie.com/media/files/yolov3.weights"
      ],
      "execution_count": 0,
      "outputs": []
    },
    {
      "cell_type": "markdown",
      "metadata": {
        "id": "Y7UIgzCksScx",
        "colab_type": "text"
      },
      "source": [
        "\n",
        "\n",
        "**9.   Convertir le fichier yolov3.weights en model tensorflow**\n",
        "\n",
        "\n"
      ]
    },
    {
      "cell_type": "code",
      "metadata": {
        "id": "CGZpC4S8rjhf",
        "colab_type": "code",
        "colab": {}
      },
      "source": [
        "!python convert.py yolov3.cfg yolov3.weights model_data/yolo_weights.h5"
      ],
      "execution_count": 0,
      "outputs": []
    },
    {
      "cell_type": "markdown",
      "metadata": {
        "id": "urXmRf5etsTC",
        "colab_type": "text"
      },
      "source": [
        "\n",
        "\n",
        "**10.   Lancer l'entrainement**\n",
        "\n",
        "\n"
      ]
    },
    {
      "cell_type": "markdown",
      "metadata": {
        "id": "QIJU6lInLMde",
        "colab_type": "text"
      },
      "source": [
        "####Train with frozen layers first, to get a stable loss. Adjust num epochs to your dataset. This step is enough to obtain a not bad model."
      ]
    },
    {
      "cell_type": "code",
      "metadata": {
        "id": "Muh55sWbs1q6",
        "colab_type": "code",
        "colab": {}
      },
      "source": [
        "!python train1.py --initial_epoch1 0 --epoch1 5 --batch_size1 64  --annotation 'annotations.csv' --classes 'model_data/key_classes.txt' --anchors 'model_data/yolo_anchors.txt' "
      ],
      "execution_count": 0,
      "outputs": []
    },
    {
      "cell_type": "markdown",
      "metadata": {
        "id": "9MSgCGH3LZ3h",
        "colab_type": "text"
      },
      "source": [
        " #### Unfreeze and continue training, to fine-tune. Train longer if the result is not good."
      ]
    },
    {
      "cell_type": "code",
      "metadata": {
        "id": "zQDYPNmcLYvh",
        "colab_type": "code",
        "colab": {}
      },
      "source": [
        "!python train2.py --initial_epoch2 5 --epoch2 10 --batch_size2 16 --annotation 'annotations.csv' --classes 'model_data/key_classes.txt' --anchors 'model_data/yolo_anchors.txt' "
      ],
      "execution_count": 0,
      "outputs": []
    },
    {
      "cell_type": "markdown",
      "metadata": {
        "id": "63Crchcc4mBr",
        "colab_type": "text"
      },
      "source": [
        "**10.   Tester le résultat**"
      ]
    },
    {
      "cell_type": "code",
      "metadata": {
        "id": "b9i1uofuz3EL",
        "colab_type": "code",
        "colab": {}
      },
      "source": [
        "!python test_yolo.py --image --input='keys_and_background/gen_0009.jpg' --output='yolo1.jpg' --model 'weights_yolo_train/trained_weights_final.h5' --classes 'model_data/key_classes.txt' --anchors 'model_data/yolo_anchors.txt'"
      ],
      "execution_count": 0,
      "outputs": []
    },
    {
      "cell_type": "markdown",
      "metadata": {
        "id": "FzX2xKMcsO-J",
        "colab_type": "text"
      },
      "source": [
        "\n",
        "\n",
        "**11.   Afficher le résulat**\n",
        "\n",
        "\n"
      ]
    },
    {
      "cell_type": "code",
      "metadata": {
        "id": "4N7ag8TB_YZo",
        "colab_type": "code",
        "colab": {}
      },
      "source": [
        "from IPython.display import display, Image, SVG, Math, YouTubeVideo\n",
        "Image(filename='yolo1.jpg')"
      ],
      "execution_count": 0,
      "outputs": []
    }
  ]
}