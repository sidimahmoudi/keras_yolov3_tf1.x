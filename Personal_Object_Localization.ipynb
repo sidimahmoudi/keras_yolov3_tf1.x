{
  "nbformat": 4,
  "nbformat_minor": 0,
  "metadata": {
    "kernelspec": {
      "display_name": "Python 3",
      "language": "python",
      "name": "python3"
    },
    "language_info": {
      "codemirror_mode": {
        "name": "ipython",
        "version": 3
      },
      "file_extension": ".py",
      "mimetype": "text/x-python",
      "name": "python",
      "nbconvert_exporter": "python",
      "pygments_lexer": "ipython3",
      "version": "3.6.5"
    },
    "colab": {
      "name": "Personal_Object_Localization (1).ipynb",
      "provenance": []
    }
  },
  "cells": [
    {
      "cell_type": "markdown",
      "metadata": {
        "id": "DM6ZdZSqEjSx"
      },
      "source": [
        "**1. Télécharger la base de données annotée**"
      ]
    },
    {
      "cell_type": "code",
      "metadata": {
        "id": "VbdZDmPBEjS8"
      },
      "source": [
        "!wget https://github.com/sidimahmoudi/facenet_tf2/releases/download/perosnal_objects_v1.0/objs_and_background.zip\n",
        "!unzip objs_and_background.zip\n",
        "!rm objs_and_background.zip"
      ],
      "execution_count": null,
      "outputs": []
    },
    {
      "cell_type": "markdown",
      "metadata": {
        "id": "RewQqhDqEjS_"
      },
      "source": [
        "**2. Adapter les fichiers \"yolo.cfg\" et \"obj_classes.txt\" avec le bon nombre et nom de classes (selon le problème)**"
      ]
    },
    {
      "cell_type": "code",
      "metadata": {
        "id": "bQzQDBuiEwV2"
      },
      "source": [
        "#######################################"
      ],
      "execution_count": null,
      "outputs": []
    },
    {
      "cell_type": "markdown",
      "metadata": {
        "id": "x52gVCtFEjTA"
      },
      "source": [
        "**3. Télécharger les poids de Yolo V3**"
      ]
    },
    {
      "cell_type": "code",
      "metadata": {
        "id": "R0_2VBdjEjTA"
      },
      "source": [
        "!wget https://pjreddie.com/media/files/yolov3.weights"
      ],
      "execution_count": null,
      "outputs": []
    },
    {
      "cell_type": "markdown",
      "metadata": {
        "id": "QExmWIQBE3vl"
      },
      "source": [
        "**4. Convertir yolo3.weights vers un format tensorflow**"
      ]
    },
    {
      "cell_type": "code",
      "metadata": {
        "id": "CGU2oHPEEjTB"
      },
      "source": [
        "!python convert.py yolov3.cfg yolov3.weights model_data/yolo_weights.h5"
      ],
      "execution_count": null,
      "outputs": []
    },
    {
      "cell_type": "markdown",
      "metadata": {
        "id": "JPv3HNWnFeQr"
      },
      "source": [
        "**5. Entrainement initial \"train1\" pour initiliser les poids du modèle**"
      ]
    },
    {
      "cell_type": "code",
      "metadata": {
        "id": "_3MAMLS-EjTC"
      },
      "source": [
        "!python train1.py --initial_epoch1 0 --epoch1 5 --batch_size1 64  --annotation 'annotations.csv' --classes 'model_data/obj_classes.txt' --anchors 'model_data/yolo_anchors.txt' "
      ],
      "execution_count": null,
      "outputs": []
    },
    {
      "cell_type": "markdown",
      "metadata": {
        "id": "R8XKOZ2jFrBl"
      },
      "source": [
        "**6. Entrainement final \"train2\" pour trouver les poids optimaux**"
      ]
    },
    {
      "cell_type": "code",
      "metadata": {
        "id": "TdEh12fdEjTC"
      },
      "source": [
        "!python train2.py --initial_epoch2 5 --epoch2 10 --batch_size2 16 --annotation 'annotations.csv' --classes 'model_data/obj_classes.txt' --anchors 'model_data/yolo_anchors.txt' "
      ],
      "execution_count": null,
      "outputs": []
    },
    {
      "cell_type": "markdown",
      "metadata": {
        "id": "KL5pqBLcF7ZH"
      },
      "source": [
        "**7. Test le modèle résultat avec une image de test**"
      ]
    },
    {
      "cell_type": "code",
      "metadata": {
        "id": "4pY2XS-HEjTD"
      },
      "source": [
        "!python test_yolo.py --image --input='gen_7110.jpg' --output='yolo1.jpg' --model 'weights_yolo_train/trained_weights_final.h5' --classes 'model_data/key_classes.txt' --anchors 'model_data/yolo_anchors.txt'"
      ],
      "execution_count": null,
      "outputs": []
    },
    {
      "cell_type": "markdown",
      "metadata": {
        "id": "NHkcifqGGCfr"
      },
      "source": [
        "**8. Afficher le résultat de détection**"
      ]
    },
    {
      "cell_type": "code",
      "metadata": {
        "id": "t8c3dA4FEjTD"
      },
      "source": [
        "from IPython.display import display, Image, SVG, Math, YouTubeVideo\n",
        "Image(filename='yolo1.jpg')"
      ],
      "execution_count": null,
      "outputs": []
    }
  ]
}